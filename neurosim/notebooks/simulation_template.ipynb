# Simulation Notebook Template
This notebook provides a template for running neuroscience simulations.
